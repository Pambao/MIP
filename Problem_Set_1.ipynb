{
  "nbformat": 4,
  "nbformat_minor": 0,
  "metadata": {
    "colab": {
      "name": "Problem Set 1",
      "provenance": [],
      "collapsed_sections": [],
      "mount_file_id": "1uXQEHI8xWK3R1dSb-D5sODPGO5QHS99J",
      "authorship_tag": "ABX9TyPPOd4BojDXcZcCJfHaJ4c+",
      "include_colab_link": true
    },
    "kernelspec": {
      "name": "python3",
      "display_name": "Python 3"
    }
  },
  "cells": [
    {
      "cell_type": "markdown",
      "metadata": {
        "id": "view-in-github",
        "colab_type": "text"
      },
      "source": [
        "<a href=\"https://colab.research.google.com/github/Pambao/MIP/blob/main/Problem_Set_1.ipynb\" target=\"_parent\"><img src=\"https://colab.research.google.com/assets/colab-badge.svg\" alt=\"Open In Colab\"/></a>"
      ]
    },
    {
      "cell_type": "markdown",
      "metadata": {
        "id": "9tXj7VFb2kMg"
      },
      "source": [
        "## Question 1:\r\n",
        "Develop an algorithm that constructs a binary image (32 x 32 pixels) in which\r\n",
        "pixels are \"on\" if they belong to the locus of points a distance d from an arbitrary\r\n",
        "pixel (io,jo) the coordinates of which are requested as input. Clearly, a closed\r\n",
        "contour will result. For each of the three distance metrics discussed (Euclidean,\r\n",
        "\"city block,\" and \"chessboard\"), construct such a binary image that contains such\r\n",
        "equidistance contours for a range of distances, d. Discuss the appearance of the\r\n",
        "equidistance contours that result from the three metrics over the range of distances\r\n",
        "investigated. If the background is considered in 8-connectivity, which metric(s)\r\n",
        "produces equidistance contours that divide the image plane into two noncontiguous regions?"
      ]
    },
    {
      "cell_type": "code",
      "metadata": {
        "id": "IJnvRBov8lyO",
        "colab": {
          "base_uri": "https://localhost:8080/",
          "height": 196
        },
        "outputId": "01de1520-840f-43e6-f19a-18cae6bd7632"
      },
      "source": [
        "import math\r\n",
        "from PIL import Image\r\n",
        "import matplotlib.pyplot as plt\r\n",
        "\r\n",
        "size = 32\r\n",
        "\r\n",
        "\r\n",
        "def euclidean(ori, point):\r\n",
        "    return math.sqrt(pow(ori[0] - point[0], 2) + pow(ori[1] - point[1], 2))\r\n",
        "\r\n",
        "\r\n",
        "def city_block(ori, point):\r\n",
        "    return abs(ori[0] - point[0]) + abs(ori[1] - point[1])\r\n",
        "\r\n",
        "\r\n",
        "def chess_board(ori, point):\r\n",
        "    return max(abs(ori[0] - point[0]), abs(ori[1] - point[1]))\r\n",
        "\r\n",
        "\r\n",
        "def get_size():\r\n",
        "    origin = [int(input('X: ')), int(input('Y: '))]\r\n",
        "    return origin\r\n",
        "\r\n",
        "\r\n",
        "def plot(distance, im, origin):\r\n",
        "    for x in range(size):\r\n",
        "        for y in range(size):\r\n",
        "            switch = {\r\n",
        "                'euclidean': euclidean(origin, (x, y)),\r\n",
        "                'city_block': city_block(origin, (x, y)),\r\n",
        "                'chess_board': chess_board(origin, (x, y))\r\n",
        "            }\r\n",
        "            length = switch.get(distance)\r\n",
        "            if length <= size / 3:\r\n",
        "                im.putpixel((x, y), 0)\r\n",
        "\r\n",
        "\r\n",
        "def solution1_1():\r\n",
        "    origin = get_size()\r\n",
        "    plot_pos = 1\r\n",
        "    dist_modes = ('euclidean', 'city_block', 'chess_board')\r\n",
        "    for dist in dist_modes:\r\n",
        "        im = Image.new(mode='1', size=(size, size), color=1)\r\n",
        "        plot(dist, im, origin)\r\n",
        "        plt.subplot(1, 3, plot_pos)\r\n",
        "        plt.title(dist)\r\n",
        "        plot_pos += 1\r\n",
        "        plt.imshow(im)\r\n",
        "    plt.show()\r\n",
        "\r\n",
        "if __name__ == \"__main__\":\r\n",
        "  solution1_1()"
      ],
      "execution_count": 5,
      "outputs": [
        {
          "output_type": "stream",
          "text": [
            "X: 16\n",
            "Y: 16\n"
          ],
          "name": "stdout"
        },
        {
          "output_type": "display_data",
          "data": {
            "image/png": "[encoded data removed]",
            "text/plain": [
              "<Figure size 432x288 with 3 Axes>"
            ]
          },
          "metadata": {
            "tags": [],
            "needs_background": "light"
          }
        }
      ]
    },
    {
      "cell_type": "markdown",
      "metadata": {
        "id": "LitfuxbZ4Izg"
      },
      "source": [
        "The appearance for each image that the pixel is \"on\" if they belong to the locus of point\r\n",
        "of a distance d using the following metrics \"Euclidean\", \"city block\", and 'chessboard' is respectively\r\n",
        "circle, rhombus, and rectangle.\r\n",
        "\r\n",
        "If the background is considered in 8-connectivity, all the metrics produces equidistance contours that divide\r\n",
        "the image plane into two non-contiguous region."
      ]
    }
  ]
}