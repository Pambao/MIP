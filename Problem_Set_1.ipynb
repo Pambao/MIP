{
  "nbformat": 4,
  "nbformat_minor": 0,
  "metadata": {
    "colab": {
      "name": "Problem Set 1",
      "provenance": [],
      "collapsed_sections": [],
      "mount_file_id": "1uXQEHI8xWK3R1dSb-D5sODPGO5QHS99J",
      "authorship_tag": "ABX9TyOK/iTc7WdfJR5v1pmrTS6O",
      "include_colab_link": true
    },
    "kernelspec": {
      "name": "python3",
      "display_name": "Python 3"
    }
  },
  "cells": [
    {
      "cell_type": "markdown",
      "metadata": {
        "id": "view-in-github",
        "colab_type": "text"
      },
      "source": [
        "<a href=\"https://colab.research.google.com/github/Pambao/MIP/blob/main/Problem_Set_1.ipynb\" target=\"_parent\"><img src=\"https://colab.research.google.com/assets/colab-badge.svg\" alt=\"Open In Colab\"/></a>"
      ]
    },
    {
      "cell_type": "markdown",
      "metadata": {
        "id": "9tXj7VFb2kMg"
      },
      "source": [
        "## Question 1:\r\n",
        "Develop an algorithm that constructs a binary image (32 x 32 pixels) in which\r\n",
        "pixels are \"on\" if they belong to the locus of points a distance d from an arbitrary\r\n",
        "pixel (io,jo) the coordinates of which are requested as input. Clearly, a closed\r\n",
        "contour will result. For each of the three distance metrics discussed (Euclidean,\r\n",
        "\"city block,\" and \"chessboard\"), construct such a binary image that contains such\r\n",
        "equidistance contours for a range of distances, d. Discuss the appearance of the\r\n",
        "equidistance contours that result from the three metrics over the range of distances\r\n",
        "investigated. If the background is considered in 8-connectivity, which metric(s)\r\n",
        "produces equidistance contours that divide the image plane into two noncontiguous regions?"
      ]
    },
    {
      "cell_type": "code",
      "metadata": {
        "id": "IJnvRBov8lyO",
        "colab": {
          "base_uri": "https://localhost:8080/",
          "height": 196
        },
        "outputId": "60545b84-0ebc-4ade-a579-b20353d6c00e"
      },
      "source": [
        "import math\r\n",
        "from PIL import Image\r\n",
        "import matplotlib.pyplot as plt\r\n",
        "\r\n",
        "size = 32\r\n",
        "\r\n",
        "\r\n",
        "def euclidean(ori, point):\r\n",
        "    return math.sqrt(pow(ori[0] - point[0], 2) + pow(ori[1] - point[1], 2))\r\n",
        "\r\n",
        "\r\n",
        "def city_block(ori, point):\r\n",
        "    return abs(ori[0] - point[0]) + abs(ori[1] - point[1])\r\n",
        "\r\n",
        "\r\n",
        "def chess_board(ori, point):\r\n",
        "    return max(abs(ori[0] - point[0]), abs(ori[1] - point[1]))\r\n",
        "\r\n",
        "\r\n",
        "def get_size():\r\n",
        "    origin = [int(input('X: ')), int(input('Y: '))]\r\n",
        "    return origin\r\n",
        "\r\n",
        "\r\n",
        "def plot(distance, im, origin):\r\n",
        "    for x in range(size):\r\n",
        "        for y in range(size):\r\n",
        "            switch = {\r\n",
        "                'euclidean': euclidean(origin, (x, y)),\r\n",
        "                'city_block': city_block(origin, (x, y)),\r\n",
        "                'chess_board': chess_board(origin, (x, y))\r\n",
        "            }\r\n",
        "            length = switch.get(distance)\r\n",
        "            if length <= size / 3:\r\n",
        "                im.putpixel((x, y), 0)\r\n",
        "\r\n",
        "\r\n",
        "def solution1_1():\r\n",
        "    origin = get_size()\r\n",
        "    plot_pos = 1\r\n",
        "    dist_modes = ('euclidean', 'city_block', 'chess_board')\r\n",
        "    for dist in dist_modes:\r\n",
        "        im = Image.new(mode='1', size=(size, size), color=1)\r\n",
        "        plot(dist, im, origin)\r\n",
        "        plt.subplot(1, 3, plot_pos)\r\n",
        "        plt.title(dist)\r\n",
        "        plot_pos += 1\r\n",
        "        plt.imshow(im)\r\n",
        "    plt.show()\r\n",
        "\r\n",
        "\r\n",
        "if __name__ == \"__main__\":\r\n",
        "  solution1_1()"
      ],
      "execution_count": 8,
      "outputs": [
        {
          "output_type": "stream",
          "text": [
            "X: 16\n",
            "Y: 16\n"
          ],
          "name": "stdout"
        },
        {
          "output_type": "display_data",
          "data": {
            "image/png": "[encoded data removed]",
            "text/plain": [
              "<Figure size 432x288 with 3 Axes>"
            ]
          },
          "metadata": {
            "tags": [],
            "needs_background": "light"
          }
        }
      ]
    },
    {
      "cell_type": "markdown",
      "metadata": {
        "id": "LitfuxbZ4Izg"
      },
      "source": [
        "The appearance for each image that the pixel is \"on\" if they belong to the locus of point\r\n",
        "of a distance d using the following metrics \"Euclidean\", \"city block\", and 'chessboard' is respectively\r\n",
        "circle, rhombus, and rectangle.\r\n",
        "\r\n",
        "If the background is considered in 8-connectivity, all the metrics produces equidistance contours that divide\r\n",
        "the image plane into two non-contiguous region."
      ]
    },
    {
      "cell_type": "markdown",
      "metadata": {
        "id": "kOlVMjzJ5ADu"
      },
      "source": [
        "## Question 2:\r\n",
        "For each of the three distance metrics, construct an image in which the value of\r\n",
        "pixel (i,j) is proportional to the corresponding distance from an arbitrary pixel\r\n",
        "(io,jo) the coordinates of which are requested as input. For the image constructed\r\n",
        "using Euclidean distance, define a region R such that all pixels (i,j)  R satisfy the\r\n",
        "distance condition D[(i,j),(io,jo)]<do, where do is some reasonable distance.\r\n",
        "Produce the run-length code for region R (considered as a binary image)."
      ]
    },
    {
      "cell_type": "code",
      "metadata": {
        "colab": {
          "base_uri": "https://localhost:8080/",
          "height": 250
        },
        "id": "7MSDXn0b5bZ1",
        "outputId": "800e2331-ca46-4f3b-a3f1-739f70ce32e5"
      },
      "source": [
        "def solution1_2():\r\n",
        "    ori = get_size()\r\n",
        "    d = int(size / 3)\r\n",
        "    modes = ('euclidean', 'çity_block', 'chess_board')\r\n",
        "    plot_pos = 1\r\n",
        "    for mode in modes:\r\n",
        "        im = Image.new(mode='L', size=(size, size), color=int(255 / 2))\r\n",
        "        for x in range(size):\r\n",
        "            for y in range(size):\r\n",
        "                switch = {\r\n",
        "                    'euclidean': euclidean(ori, (x, y)),\r\n",
        "                    'çity_block': city_block(ori, (x, y)),\r\n",
        "                    'chess_board': chess_board(ori, (x, y))\r\n",
        "                }\r\n",
        "                length = switch.get(mode)\r\n",
        "                if length <= d:\r\n",
        "                    val = int((1 - length / d) * 255)\r\n",
        "                    im.putpixel((x, y), val)\r\n",
        "        \r\n",
        "        plt.subplot(1,3, plot_pos)\r\n",
        "        plt.imshow(im, cmap='gray', vmin = 0, vmax = 255)\r\n",
        "        plt.title(mode)\r\n",
        "        plot_pos += 1\r\n",
        "    plt.show()\r\n",
        "\r\n",
        "    # run length code\r\n",
        "\r\n",
        "    y_lower = int(ori[1] - d)\r\n",
        "    y_upper = int(ori[1] + d)\r\n",
        "    x_lower = int(ori[0] - d)\r\n",
        "    x_upper = int(ori[0] + d)\r\n",
        "    run_length_code = []\r\n",
        "    y = y_lower\r\n",
        "    while y_lower <= y <= y_upper and size >= y >= 0:\r\n",
        "        x = x_lower\r\n",
        "        while x_lower <= x <= x_upper and size >= x >= 0:\r\n",
        "            length = euclidean(ori, (x, y))\r\n",
        "            if length <= d:\r\n",
        "                x_left = x\r\n",
        "                while length <= d:\r\n",
        "                    x += 1\r\n",
        "                    length = euclidean(ori, (x, y))\r\n",
        "                run_length_code.append((y, x_left, x - 1))\r\n",
        "            else:\r\n",
        "                x += 1\r\n",
        "        y += 1\r\n",
        "    print(f'Run length code is: \\n{run_length_code}')\r\n",
        "\r\n",
        "if __name__ == '__main__':\r\n",
        "  solution1_2()"
      ],
      "execution_count": 9,
      "outputs": [
        {
          "output_type": "stream",
          "text": [
            "X: 16\n",
            "Y: 16\n"
          ],
          "name": "stdout"
        },
        {
          "output_type": "display_data",
          "data": {
            "image/png": "[encoded data removed]",
            "text/plain": [
              "<Figure size 432x288 with 3 Axes>"
            ]
          },
          "metadata": {
            "tags": [],
            "needs_background": "light"
          }
        },
        {
          "output_type": "stream",
          "text": [
            "Run length code is: \n",
            "[(6, 16, 16), (7, 12, 20), (8, 10, 22), (9, 9, 23), (10, 8, 24), (11, 8, 24), (12, 7, 25), (13, 7, 25), (14, 7, 25), (15, 7, 25), (16, 6, 26), (17, 7, 25), (18, 7, 25), (19, 7, 25), (20, 7, 25), (21, 8, 24), (22, 8, 24), (23, 9, 23), (24, 10, 22), (25, 12, 20), (26, 16, 16)]\n"
          ],
          "name": "stdout"
        }
      ]
    },
    {
      "cell_type": "markdown",
      "metadata": {
        "id": "KMbz3Cz4B-Zu"
      },
      "source": [
        ""
      ]
    },
    {
      "cell_type": "markdown",
      "metadata": {
        "id": "nZLTogkuMnvH"
      },
      "source": [
        "# Question 3 :\r\n",
        "Develop an algorithm that uses the run-length code from Problem 2 to create a\r\n",
        "binary image in which pixels in region R are \"on\" and other pixels are \"off.\"\r\n",
        "Subsample this 32 x 32-pixel image to create an 8 x 8-pixel binary image, and\r\n",
        "develop an algorithm that derives the quadtree representation of this binary image."
      ]
    },
    {
      "cell_type": "markdown",
      "metadata": {
        "id": "pldcwsugPHX7"
      },
      "source": [
        "```Composite``` class is used for construct the quadtree that implement the composite design pattern ```Branch``` and ```Leaf``` class is respectedly inner node and leaf node. Inner node itself contains 4 other ```Composite``` inside.\r\n"
      ]
    },
    {
      "cell_type": "code",
      "metadata": {
        "id": "nbkAuAJl7cWE"
      },
      "source": [
        "class Composite:\r\n",
        "    def __init__(self):\r\n",
        "        self.children = []\r\n",
        "\r\n",
        "    def display(self):\r\n",
        "        raise NotImplementedError\r\n",
        "\r\n",
        "\r\n",
        "class Branch(Composite):\r\n",
        "    def add_child(self, child):\r\n",
        "        self.children.append(child)\r\n",
        "\r\n",
        "    def display(self):\r\n",
        "        print('g(', end='')\r\n",
        "        for child in self.children:\r\n",
        "            child.display()\r\n",
        "            if child is not self.children[-1]:\r\n",
        "                print(' ', end='')\r\n",
        "        print(')', end='')\r\n",
        "\r\n",
        "\r\n",
        "class Leaf(Composite):\r\n",
        "    def __init__(self, val):\r\n",
        "        self.val = val\r\n",
        "\r\n",
        "    def display(self):\r\n",
        "        dict = {1: 'w', 0: 'b', -1: 'm'}\r\n",
        "        print(dict.get(self.val), end='')"
      ],
      "execution_count": 12,
      "outputs": []
    },
    {
      "cell_type": "code",
      "metadata": {
        "colab": {
          "base_uri": "https://localhost:8080/",
          "height": 318
        },
        "id": "MvUcoj76RVyf",
        "outputId": "ac7e2b5e-8839-4c62-9c82-b476ace70aaa"
      },
      "source": [
        "def is_leaf(image):\r\n",
        "    val = image.getpixel((0, 0))\r\n",
        "    image_size = image.size\r\n",
        "    for x in range(0, image_size[0]):\r\n",
        "        for y in range(0, image_size[1]):\r\n",
        "            if val != image.getpixel((x, y)):\r\n",
        "                return [-1, False]\r\n",
        "\r\n",
        "    return [val, True]\r\n",
        "\r\n",
        "\r\n",
        "def construct_quadtree(parent, image):\r\n",
        "    images = []\r\n",
        "    image_size = image.size[0]\r\n",
        "    for y in (0, image_size / 2):\r\n",
        "        for x in (0, image_size / 2):\r\n",
        "            left = x\r\n",
        "            right = x + image_size / 2\r\n",
        "            top = y\r\n",
        "            bot = y + image_size / 2\r\n",
        "            sub_image = image.crop((left, top, right, bot))\r\n",
        "            images.append(sub_image)\r\n",
        "    for sub_image in images:\r\n",
        "        node_of_sub_image = is_leaf(sub_image)\r\n",
        "        if node_of_sub_image[1]:\r\n",
        "            leaf = Leaf(node_of_sub_image[0])\r\n",
        "            parent.add_child(leaf)\r\n",
        "        else:\r\n",
        "            branch = Branch()\r\n",
        "            construct_quadtree(branch, sub_image)\r\n",
        "            parent.add_child(branch)\r\n",
        "\r\n",
        "\r\n",
        "def solution1_3():\r\n",
        "    size = 32\r\n",
        "    ori = (16, 16)\r\n",
        "    d = int(size / 3)\r\n",
        "\r\n",
        "# The following code is used to generate the run length code from the Eculidean\r\n",
        "# distance image.\r\n",
        "\r\n",
        "    y_lower = int(ori[1] - d)\r\n",
        "    y_upper = int(ori[1] + d)\r\n",
        "    x_lower = int(ori[0] - d)\r\n",
        "    x_upper = int(ori[0] + d)\r\n",
        "    run_length_code = []\r\n",
        "    y = y_lower\r\n",
        "    while y_lower <= y <= y_upper and size >= y >= 0:\r\n",
        "        x = x_lower\r\n",
        "        while x_lower <= x <= x_upper and size >= x >= 0:\r\n",
        "            length = euclidean(ori, (x, y))\r\n",
        "            if length <= d:\r\n",
        "                x_left = x\r\n",
        "                while length <= d:\r\n",
        "                    x += 1\r\n",
        "                    length = euclidean(ori, (x, y))\r\n",
        "                run_length_code.append((y, x_left, x - 1))\r\n",
        "            else:\r\n",
        "                x += 1\r\n",
        "        y += 1\r\n",
        "    print(f\"Run length code:\\n {run_length_code}\")\r\n",
        "\r\n",
        "# The following code is used to build image from the above run length code\r\n",
        "    \r\n",
        "    im = Image.new('1', size=(size, size), color=1)\r\n",
        "    for code in run_length_code:\r\n",
        "        y = code[0]\r\n",
        "        for x in range(code[1], code[2] + 1):\r\n",
        "            im.putpixel((x, y), 0)\r\n",
        "\r\n",
        "    plt.subplot(1,2,1)\r\n",
        "    plt.imshow(im)\r\n",
        "    plt.title('Image build from the\\nrun length code')\r\n",
        "\r\n",
        "    resized_image = im.resize((8,8))\r\n",
        "    plt.subplot(1,2,2)\r\n",
        "    plt.imshow(resized_image)\r\n",
        "    plt.title('Image after converting to 8x8:')\r\n",
        "    plt.show()\r\n",
        "\r\n",
        "# The following code is the code used to construct the qua\r\n",
        "    \r\n",
        "    root = Branch()\r\n",
        "    construct_quadtree(root, resized_image)\r\n",
        "    print(f\"Code for the quadtree:\")\r\n",
        "    root.display()\r\n",
        "\r\n",
        "solution1_3()"
      ],
      "execution_count": 21,
      "outputs": [
        {
          "output_type": "stream",
          "text": [
            "Run length code:\n",
            " [(6, 16, 16), (7, 12, 20), (8, 10, 22), (9, 9, 23), (10, 8, 24), (11, 8, 24), (12, 7, 25), (13, 7, 25), (14, 7, 25), (15, 7, 25), (16, 6, 26), (17, 7, 25), (18, 7, 25), (19, 7, 25), (20, 7, 25), (21, 8, 24), (22, 8, 24), (23, 9, 23), (24, 10, 22), (25, 12, 20), (26, 16, 16)]\n"
          ],
          "name": "stdout"
        },
        {
          "output_type": "display_data",
          "data": {
            "image/png": "[encoded data removed]",
            "text/plain": [
              "<Figure size 432x288 with 2 Axes>"
            ]
          },
          "metadata": {
            "tags": [],
            "needs_background": "light"
          }
        },
        {
          "output_type": "stream",
          "text": [
            "Code for the quadtree:\n",
            "g(g(w w w b) g(w w b w) g(w b w w) g(b w w w))"
          ],
          "name": "stdout"
        }
      ]
    },
    {
      "cell_type": "markdown",
      "metadata": {
        "id": "iVxFlmHGZIdr"
      },
      "source": [
        "## Question 4:\r\n",
        "Write a program that outputs the base-2 representation of any non-negative base-\r\n",
        "10 integer provided as input."
      ]
    },
    {
      "cell_type": "code",
      "metadata": {
        "colab": {
          "base_uri": "https://localhost:8080/"
        },
        "id": "XbbMgIzsSsjo",
        "outputId": "6518d113-f2bd-4350-dfb0-d1f1d1997008"
      },
      "source": [
        "base_10 = int(input(\"Enter a base 10 number: \"))\r\n",
        "base_2 = []\r\n",
        "while base_10 != 0:\r\n",
        "  base_2.append(base_10 % 2)\r\n",
        "  base_10 = base_10 // 2\r\n",
        "base_2.reverse()\r\n",
        "print(base_2)"
      ],
      "execution_count": 34,
      "outputs": [
        {
          "output_type": "stream",
          "text": [
            "Enter a base 10 number: 5\n",
            "[1, 0, 1]\n"
          ],
          "name": "stdout"
        }
      ]
    }
  ]
}